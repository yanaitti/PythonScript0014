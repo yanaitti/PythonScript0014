{
 "cells": [
  {
   "cell_type": "code",
   "execution_count": null,
   "metadata": {},
   "outputs": [],
   "source": [
    "import pandas as pd\n",
    "import numpy as np\n",
    "from matplotlib import pyplot as plt\n",
    "import seaborn as sns\n",
    "%matplotlib inline\n",
    "sns.set()\n",
    "\n",
    "import lightgbm as lgb\n",
    "from optuna.integration import lightgbm as lgb_optuna\n",
    "\n",
    "from sklearn.linear_model import LinearRegression\n",
    "from sklearn.preprocessing import LabelEncoder, OneHotEncoder\n",
    "from sklearn.model_selection import train_test_split, GridSearchCV,StratifiedKFold,cross_validate\n",
    "from sklearn.metrics import roc_auc_score\n",
    "from sklearn.metrics import mean_absolute_error\n",
    "from sklearn.impute import SimpleImputer\n"
   ]
  },
  {
   "cell_type": "code",
   "execution_count": null,
   "metadata": {},
   "outputs": [],
   "source": [
    "!dir"
   ]
  },
  {
   "cell_type": "code",
   "execution_count": null,
   "metadata": {},
   "outputs": [],
   "source": [
    "train = pd.read_csv('train_20200924.csv')\n",
    "test = pd.read_csv('test_20200924.csv')"
   ]
  },
  {
   "cell_type": "code",
   "execution_count": null,
   "metadata": {},
   "outputs": [],
   "source": [
    "train"
   ]
  },
  {
   "cell_type": "code",
   "execution_count": null,
   "metadata": {},
   "outputs": [],
   "source": [
    "train.info()"
   ]
  },
  {
   "cell_type": "code",
   "execution_count": null,
   "metadata": {},
   "outputs": [],
   "source": [
    "train[train['koutou'] >= 0]['koutou'].plot.hist()\n",
    "plt.show()\n",
    "\n",
    "train[train['koutou'] >= 0]['koutou'].plot.box()\n",
    "plt.show()\n",
    "\n",
    "train[train['koutou'] >= 0]['koutou'].describe()"
   ]
  },
  {
   "cell_type": "code",
   "execution_count": null,
   "metadata": {},
   "outputs": [],
   "source": [
    "def decide_y(x):\n",
    "#     if x < 50:\n",
    "#         return 0\n",
    "#     else:\n",
    "#         return 1\n",
    "    if x < 0:\n",
    "        return 0\n",
    "    elif x >= 15.0:\n",
    "        return 1\n",
    "    elif x >= 53.84:\n",
    "        return 2\n",
    "    elif x >= 125.0:\n",
    "        return 3\n",
    "    else:\n",
    "        return 4"
   ]
  },
  {
   "cell_type": "code",
   "execution_count": null,
   "metadata": {},
   "outputs": [],
   "source": [
    "train['y'] = train['koutou'].apply(decide_y)\n",
    "train[['koutou', 'y']]"
   ]
  },
  {
   "cell_type": "code",
   "execution_count": null,
   "metadata": {},
   "outputs": [],
   "source": [
    "all_df = pd.concat([train, test], axis=0).reset_index(drop=True)"
   ]
  },
  {
   "cell_type": "code",
   "execution_count": null,
   "metadata": {},
   "outputs": [],
   "source": [
    "all_df"
   ]
  },
  {
   "cell_type": "code",
   "execution_count": null,
   "metadata": {},
   "outputs": [],
   "source": [
    "all_df = all_df.drop('koutou', axis=1)"
   ]
  },
  {
   "cell_type": "code",
   "execution_count": null,
   "metadata": {},
   "outputs": [],
   "source": [
    "all_df['y'] = all_df['y'].fillna(-999)"
   ]
  },
  {
   "cell_type": "code",
   "execution_count": null,
   "metadata": {},
   "outputs": [],
   "source": [
    "all_df['year'] = all_df['date'].apply(lambda x: x.split('/')[0]).astype('int')\n",
    "all_df['month'] = all_df['date'].apply(lambda x: x.split('/')[1]).astype('int')\n",
    "all_df['day'] = all_df['date'].apply(lambda x: x.split('/')[2]).astype('int')\n",
    "all_df"
   ]
  },
  {
   "cell_type": "code",
   "execution_count": null,
   "metadata": {},
   "outputs": [],
   "source": [
    "all_df.hist( figsize=(14, 10), bins=20)"
   ]
  },
  {
   "cell_type": "code",
   "execution_count": null,
   "metadata": {},
   "outputs": [],
   "source": [
    "all_df.describe()"
   ]
  },
  {
   "cell_type": "code",
   "execution_count": null,
   "metadata": {},
   "outputs": [],
   "source": [
    "all_df.corr()['y'].abs().sort_values(ascending=False)[1:]"
   ]
  },
  {
   "cell_type": "code",
   "execution_count": null,
   "metadata": {},
   "outputs": [],
   "source": [
    "all_df.info()"
   ]
  },
  {
   "cell_type": "code",
   "execution_count": null,
   "metadata": {},
   "outputs": [],
   "source": [
    "categorical_features = ['market_name', 'market_key', 'kessan', 'gyosyu', 'v_tani']"
   ]
  },
  {
   "cell_type": "code",
   "execution_count": null,
   "metadata": {},
   "outputs": [],
   "source": [
    "all_df = all_df.drop(['name', 'date', 'code', 'p_kari', 'p_uri', 'bb', 'content'], axis=1)"
   ]
  },
  {
   "cell_type": "code",
   "execution_count": null,
   "metadata": {},
   "outputs": [],
   "source": [
    "for col in categorical_features:\n",
    "    lbl = LabelEncoder()\n",
    "    lbl.fit(all_df[col])\n",
    "    lbl.transform(all_df[col])\n",
    "    all_df[col] = lbl.transform(all_df[col])"
   ]
  },
  {
   "cell_type": "code",
   "execution_count": null,
   "metadata": {},
   "outputs": [],
   "source": [
    "all_df"
   ]
  },
  {
   "cell_type": "code",
   "execution_count": null,
   "metadata": {},
   "outputs": [],
   "source": [
    "#訓練データ、テストデータの分割\n",
    "train_df = all_df[all_df[\"y\"] != -999.0]\n",
    "test_df = all_df[all_df[\"y\"] == -999.0]\n"
   ]
  },
  {
   "cell_type": "code",
   "execution_count": null,
   "metadata": {},
   "outputs": [],
   "source": [
    "y_train = train_df['y']\n",
    "X_train = train_df.drop(['y'], axis=1)\n",
    "X_test = test_df.drop(['y'], axis=1)"
   ]
  },
  {
   "cell_type": "code",
   "execution_count": null,
   "metadata": {},
   "outputs": [],
   "source": [
    "y_train.shape, X_train.shape, X_test.shape"
   ]
  },
  {
   "cell_type": "code",
   "execution_count": null,
   "metadata": {},
   "outputs": [],
   "source": [
    "# 訓練データからデータを分割\n",
    "X_train, X_valid, y_train, y_valid = train_test_split(X_train, y_train, test_size=0.3, random_state=0, stratify=y_train)"
   ]
  },
  {
   "cell_type": "code",
   "execution_count": null,
   "metadata": {},
   "outputs": [],
   "source": [
    "# 使用モデルはLGB（パラメータチューニング無）\n",
    "lgb_train = lgb.Dataset(X_train, y_train, categorical_feature=categorical_features)\n",
    "lgb_eval = lgb.Dataset(X_valid, y_valid, reference=lgb_train, categorical_feature=categorical_features)\n",
    "\n",
    "params = {\n",
    "#     'objective': 'binary'\n",
    "    'objective': 'multiclass', \n",
    "    'num_class': 5,\n",
    "}\n",
    "\n",
    "model = lgb.train(\n",
    "    params, lgb_train,\n",
    "    valid_sets=[lgb_train, lgb_eval],\n",
    "    verbose_eval=10,\n",
    "    num_boost_round=1000,\n",
    "    early_stopping_rounds=10\n",
    ")\n",
    "\n",
    "y_pred = model.predict(X_test, num_iteration=model.best_iteration)"
   ]
  },
  {
   "cell_type": "code",
   "execution_count": null,
   "metadata": {},
   "outputs": [],
   "source": [
    "y_pred"
   ]
  },
  {
   "cell_type": "code",
   "execution_count": null,
   "metadata": {},
   "outputs": [],
   "source": [
    "X_test"
   ]
  },
  {
   "cell_type": "code",
   "execution_count": null,
   "metadata": {},
   "outputs": [],
   "source": [
    "def build():\n",
    "    kf = StratifiedKFold(n_splits=5, shuffle=True, random_state=0)\n",
    "\n",
    "    lgb_train = lgb_optuna.Dataset(X_train, y_train)\n",
    "\n",
    "    lgbm_params = {\n",
    "#         'objective': 'binary',\n",
    "#         'metric': 'binary_logloss',\n",
    "        'objective': 'multiclass',\n",
    "        'metric': 'multi_logloss',\n",
    "        'num_class': 5,\n",
    "        'random_state':0,\n",
    "        'verbosity': 0\n",
    "    }\n",
    "\n",
    "    tunecv = lgb_optuna.LightGBMTunerCV(\n",
    "        lgbm_params,\n",
    "        lgb_train,\n",
    "        num_boost_round=100,\n",
    "        early_stopping_rounds=20,\n",
    "        seed = 0,\n",
    "        verbose_eval=20,\n",
    "        folds=kf\n",
    "    )\n",
    "\n",
    "    tunecv.run()\n",
    "\n",
    "    print( 'Best score = ',tunecv.best_score)\n",
    "    print( 'Best params= ',tunecv.best_params)\n",
    "\n",
    "    return tunecv\n",
    "\n",
    "tunecv = build()"
   ]
  },
  {
   "cell_type": "code",
   "execution_count": null,
   "metadata": {},
   "outputs": [],
   "source": [
    "# train_data = lgb.Dataset( X_train, y_train )\n",
    "# eval_data = lgb.Dataset(X_valid, label=X_valid, reference= train_data)\n",
    "\n",
    "lgb_train = lgb.Dataset(X_train, y_train, categorical_feature=categorical_features)\n",
    "lgb_eval = lgb.Dataset(X_valid, y_valid, reference=lgb_train, categorical_feature=categorical_features)\n",
    "\n",
    "clf = lgb.train( tunecv.best_params, \n",
    "                lgb_train,\n",
    "                valid_sets=lgb_eval,\n",
    "                num_boost_round=50,\n",
    "                verbose_eval=0\n",
    "               )\n",
    "y_pred = clf.predict( X_valid )\n",
    "# print('AUC: ', roc_auc_score(y_valid, y_pred))"
   ]
  },
  {
   "cell_type": "code",
   "execution_count": null,
   "metadata": {},
   "outputs": [],
   "source": [
    "clf.predict( X_test )"
   ]
  },
  {
   "cell_type": "code",
   "execution_count": null,
   "metadata": {},
   "outputs": [],
   "source": [
    "test"
   ]
  },
  {
   "cell_type": "code",
   "execution_count": null,
   "metadata": {},
   "outputs": [],
   "source": []
  }
 ],
 "metadata": {
  "kernelspec": {
   "display_name": "Python 3",
   "language": "python",
   "name": "python3"
  },
  "language_info": {
   "codemirror_mode": {
    "name": "ipython",
    "version": 3
   },
   "file_extension": ".py",
   "mimetype": "text/x-python",
   "name": "python",
   "nbconvert_exporter": "python",
   "pygments_lexer": "ipython3",
   "version": "3.7.9"
  }
 },
 "nbformat": 4,
 "nbformat_minor": 4
}
